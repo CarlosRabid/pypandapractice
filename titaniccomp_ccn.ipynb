{
  "nbformat": 4,
  "nbformat_minor": 0,
  "metadata": {
    "colab": {
      "name": "titaniccomp_ccn.ipynb",
      "provenance": [],
      "mount_file_id": "1RNXn3aQLE7yIkg1raxHoSDjmv5bnv5WG",
      "authorship_tag": "ABX9TyMux+TjR2spohSgXx5wVu04"
    },
    "kernelspec": {
      "name": "python3",
      "display_name": "Python 3"
    },
    "language_info": {
      "name": "python"
    }
  },
  "cells": [
    {
      "cell_type": "code",
      "execution_count": null,
      "metadata": {
        "id": "GSDhyLigIKeS"
      },
      "outputs": [],
      "source": [
        "import numpy as np\n",
        "import pandas as pd\n",
        "\n",
        "import os\n",
        "import re\n",
        "import warnings\n",
        "from sklearn.ensemble import RandomForestClassifier"
      ]
    },
    {
      "cell_type": "code",
      "source": [
        "dat_df = '/content/drive/MyDrive/Colab Notebooks/coding dojo/PTUnsuperML/titanicdataset/train.csv'\n",
        "test_df = '/content/drive/MyDrive/Colab Notebooks/coding dojo/PTUnsuperML/titanicdataset/test.csv'\n",
        "dim_df = pd.read_csv(dat_df, delimiter=\",\")\n",
        "test_df = pd.read_csv(test_df, delimiter=\",\")\n",
        "dim_df.info()\n",
        "test_df.info()\n"
      ],
      "metadata": {
        "colab": {
          "base_uri": "https://localhost:8080/"
        },
        "id": "D0zEdo_XImXZ",
        "outputId": "ff9bebbb-4262-447e-d3b0-af2aacfda592"
      },
      "execution_count": null,
      "outputs": [
        {
          "output_type": "stream",
          "name": "stdout",
          "text": [
            "<class 'pandas.core.frame.DataFrame'>\n",
            "RangeIndex: 891 entries, 0 to 890\n",
            "Data columns (total 12 columns):\n",
            " #   Column       Non-Null Count  Dtype  \n",
            "---  ------       --------------  -----  \n",
            " 0   PassengerId  891 non-null    int64  \n",
            " 1   Survived     891 non-null    int64  \n",
            " 2   Pclass       891 non-null    int64  \n",
            " 3   Name         891 non-null    object \n",
            " 4   Sex          891 non-null    object \n",
            " 5   Age          714 non-null    float64\n",
            " 6   SibSp        891 non-null    int64  \n",
            " 7   Parch        891 non-null    int64  \n",
            " 8   Ticket       891 non-null    object \n",
            " 9   Fare         891 non-null    float64\n",
            " 10  Cabin        204 non-null    object \n",
            " 11  Embarked     889 non-null    object \n",
            "dtypes: float64(2), int64(5), object(5)\n",
            "memory usage: 83.7+ KB\n",
            "<class 'pandas.core.frame.DataFrame'>\n",
            "RangeIndex: 418 entries, 0 to 417\n",
            "Data columns (total 11 columns):\n",
            " #   Column       Non-Null Count  Dtype  \n",
            "---  ------       --------------  -----  \n",
            " 0   PassengerId  418 non-null    int64  \n",
            " 1   Pclass       418 non-null    int64  \n",
            " 2   Name         418 non-null    object \n",
            " 3   Sex          418 non-null    object \n",
            " 4   Age          332 non-null    float64\n",
            " 5   SibSp        418 non-null    int64  \n",
            " 6   Parch        418 non-null    int64  \n",
            " 7   Ticket       418 non-null    object \n",
            " 8   Fare         417 non-null    float64\n",
            " 9   Cabin        91 non-null     object \n",
            " 10  Embarked     418 non-null    object \n",
            "dtypes: float64(2), int64(4), object(5)\n",
            "memory usage: 36.0+ KB\n"
          ]
        }
      ]
    },
    {
      "cell_type": "code",
      "source": [
        "dim_df['Age'].fillna((dim_df['Age'].max()), inplace=True)\n",
        "test_df['Age'].fillna((test_df['Age'].max()), inplace=True)\n",
        "test_df.info()\n",
        "dim_df.info()"
      ],
      "metadata": {
        "colab": {
          "base_uri": "https://localhost:8080/"
        },
        "id": "luNXCAOqlPbR",
        "outputId": "cae617c2-bf5f-4edb-e075-bbb950214ed9"
      },
      "execution_count": null,
      "outputs": [
        {
          "output_type": "stream",
          "name": "stdout",
          "text": [
            "<class 'pandas.core.frame.DataFrame'>\n",
            "RangeIndex: 418 entries, 0 to 417\n",
            "Data columns (total 11 columns):\n",
            " #   Column       Non-Null Count  Dtype  \n",
            "---  ------       --------------  -----  \n",
            " 0   PassengerId  418 non-null    int64  \n",
            " 1   Pclass       418 non-null    int64  \n",
            " 2   Name         418 non-null    object \n",
            " 3   Sex          418 non-null    object \n",
            " 4   Age          418 non-null    float64\n",
            " 5   SibSp        418 non-null    int64  \n",
            " 6   Parch        418 non-null    int64  \n",
            " 7   Ticket       418 non-null    object \n",
            " 8   Fare         417 non-null    float64\n",
            " 9   Cabin        91 non-null     object \n",
            " 10  Embarked     418 non-null    object \n",
            "dtypes: float64(2), int64(4), object(5)\n",
            "memory usage: 36.0+ KB\n",
            "<class 'pandas.core.frame.DataFrame'>\n",
            "RangeIndex: 891 entries, 0 to 890\n",
            "Data columns (total 12 columns):\n",
            " #   Column       Non-Null Count  Dtype  \n",
            "---  ------       --------------  -----  \n",
            " 0   PassengerId  891 non-null    int64  \n",
            " 1   Survived     891 non-null    int64  \n",
            " 2   Pclass       891 non-null    int64  \n",
            " 3   Name         891 non-null    object \n",
            " 4   Sex          891 non-null    object \n",
            " 5   Age          891 non-null    float64\n",
            " 6   SibSp        891 non-null    int64  \n",
            " 7   Parch        891 non-null    int64  \n",
            " 8   Ticket       891 non-null    object \n",
            " 9   Fare         891 non-null    float64\n",
            " 10  Cabin        204 non-null    object \n",
            " 11  Embarked     889 non-null    object \n",
            "dtypes: float64(2), int64(5), object(5)\n",
            "memory usage: 83.7+ KB\n"
          ]
        }
      ]
    },
    {
      "cell_type": "code",
      "source": [
        "dim_df['Age'].describe()"
      ],
      "metadata": {
        "colab": {
          "base_uri": "https://localhost:8080/"
        },
        "id": "ws9DzJMwmyxA",
        "outputId": "dec3fd15-faec-4bf9-f8dc-271fa5c007dc"
      },
      "execution_count": null,
      "outputs": [
        {
          "output_type": "execute_result",
          "data": {
            "text/plain": [
              "count    891.000000\n",
              "mean      29.699118\n",
              "std       13.002015\n",
              "min        0.420000\n",
              "25%       22.000000\n",
              "50%       29.699118\n",
              "75%       35.000000\n",
              "max       80.000000\n",
              "Name: Age, dtype: float64"
            ]
          },
          "metadata": {},
          "execution_count": 16
        }
      ]
    },
    {
      "cell_type": "code",
      "source": [
        "# Acercamiento para mujeres y niños (como en la pelicula)\n",
        "fem = dim_df.loc[dim_df.Sex == 'female'][\"Survived\"]\n",
        "ratio_f = sum(fem)/len(fem)\n",
        "print('Mujeres',ratio_f)\n",
        "child = dim_df.loc[dim_df.Age <= 16][\"Survived\"]\n",
        "ratio_c = sum(child)/len(child)\n",
        "print('Niños',ratio_c)"
      ],
      "metadata": {
        "colab": {
          "base_uri": "https://localhost:8080/"
        },
        "id": "TCoY7xIVl4O4",
        "outputId": "8e42888d-c22d-41c5-a65f-693a9de50fe9"
      },
      "execution_count": null,
      "outputs": [
        {
          "output_type": "stream",
          "name": "stdout",
          "text": [
            "Mujeres 0.7420382165605095\n",
            "Niños 0.55\n"
          ]
        }
      ]
    },
    {
      "cell_type": "code",
      "source": [
        "\n",
        "\n",
        "y = dim_df[\"Survived\"]\n",
        "\n",
        "features = [\"Pclass\", \"Sex\", \"SibSp\", \"Parch\"]\n",
        "X = pd.get_dummies(dim_df[features])\n",
        "X_test = pd.get_dummies(test_df[features])\n",
        "\n",
        "model = RandomForestClassifier(n_estimators=100, max_depth=5, random_state=3)\n",
        "model.fit(X, y)\n",
        "predicts = model.predict(X_test)\n",
        "\n",
        "output = pd.DataFrame({'PassengerId': test_df.PassengerId, 'Survived': predicts})\n",
        "output.to_csv(path_or_buf='/content/drive/MyDrive/Colab Notebooks/coding dojo/PTUnsuperML/submission.csv', index=False)\n",
        "#output.info()"
      ],
      "metadata": {
        "id": "JNqHRLAJnhT6"
      },
      "execution_count": null,
      "outputs": []
    }
  ]
}