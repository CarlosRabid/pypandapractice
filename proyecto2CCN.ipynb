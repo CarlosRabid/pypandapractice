{
  "nbformat": 4,
  "nbformat_minor": 0,
  "metadata": {
    "colab": {
      "name": "proyecto2CCN.ipynb",
      "provenance": [],
      "authorship_tag": "ABX9TyM5eKl4FJRx1/lyGviW8Wkb"
    },
    "kernelspec": {
      "name": "python3",
      "display_name": "Python 3"
    },
    "language_info": {
      "name": "python"
    }
  },
  "cells": [
    {
      "cell_type": "markdown",
      "source": [
        "# Dataset"
      ],
      "metadata": {
        "id": "z6MC-kk438Q-"
      }
    },
    {
      "cell_type": "markdown",
      "source": [
        "El conjunto de datos contiene solo la altura (pulgadas) y el peso (libras) de 25,000 humanos diferentes de 18 años de edad. Este conjunto de datos se puede utilizar para construir un modelo que pueda predecir la altura o el peso de un ser humano.\n",
        "<br/>**Reconocimiento**\n",
        "<br/>Enlace http://socr.ucla.edu/docs/resources/SOCR_Data/SOCR_Data_Dinov_020108_HeightsWeights.html"
      ],
      "metadata": {
        "id": "udmVIjNe3AhC"
      }
    },
    {
      "cell_type": "markdown",
      "source": [
        ""
      ],
      "metadata": {
        "id": "4uQQk10X34wE"
      }
    },
    {
      "cell_type": "markdown",
      "source": [
        ""
      ],
      "metadata": {
        "id": "sttZMJTx2-qk"
      }
    }
  ]
}