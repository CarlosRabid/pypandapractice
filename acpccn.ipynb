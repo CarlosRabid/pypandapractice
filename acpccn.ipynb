{
  "nbformat": 4,
  "nbformat_minor": 0,
  "metadata": {
    "colab": {
      "name": "acpccn.ipynb",
      "provenance": [],
      "authorship_tag": "ABX9TyNV2+vg7h5s2LB87pl1y5Yv"
    },
    "kernelspec": {
      "name": "python3",
      "display_name": "Python 3"
    },
    "language_info": {
      "name": "python"
    }
  },
  "cells": [
    {
      "cell_type": "code",
      "execution_count": null,
      "metadata": {
        "id": "DlEae8HLE2aF"
      },
      "outputs": [],
      "source": [
        "import matplotlib.pyplot as plt\n",
        "import matplotlib.image as mpimg\n",
        "import seaborn as sns\n",
        "import pandas as pd\n",
        "import numpy as np\n",
        "from sklearn import preprocessing\n",
        "from sklearn import metrics\n",
        "from sklearn.model_selection import train_test_split\n",
        "from sklearn.preprocessing import StandardScaler\n",
        "from sklearn.cluster import KMeans\n",
        "from sklearn.tree import DecisionTreeClassifier\n",
        "from sklearn.linear_model import LogisticRegression\n",
        "from sklearn.multiclass import OneVsOneClassifier\n",
        "from  io import StringIO\n",
        "import pydotplus\n",
        "from sklearn import tree\n",
        "%matplotlib inline "
      ]
    },
    {
      "cell_type": "code",
      "source": [
        "fileurl = ('https://s3.amazonaws.com/General_V88/boomyeah2015/codingdojo/curriculum/content/chapter/drug200.csv')\n",
        "df = pd.read_csv(fileurl, delimiter=',')\n",
        "df.info()\n",
        "df.head(9)"
      ],
      "metadata": {
        "id": "DETAy9T2FGOR"
      },
      "execution_count": null,
      "outputs": []
    }
  ]
}