{
  "nbformat": 4,
  "nbformat_minor": 0,
  "metadata": {
    "colab": {
      "name": "acpccn.ipynb",
      "provenance": [],
      "authorship_tag": "ABX9TyN4yUnxJJpIPyJUWbzRqDeJ"
    },
    "kernelspec": {
      "name": "python3",
      "display_name": "Python 3"
    },
    "language_info": {
      "name": "python"
    }
  },
  "cells": [
    {
      "cell_type": "code",
      "execution_count": 1,
      "metadata": {
        "id": "DlEae8HLE2aF"
      },
      "outputs": [],
      "source": [
        "import matplotlib.pyplot as plt\n",
        "import seaborn as sns\n",
        "import pandas as pd\n",
        "import numpy as np\n",
        "from sklearn.preprocessing import StandardScaler\n",
        "from sklearn.pipeline import make_pipeline\n",
        "from sklearn.model_selection import train_test_split\n",
        "from sklearn.decomposition import PCA\n",
        "from sklearn.linear_model import LogisticRegression\n",
        "###\n",
        "from sklearn.datasets import fetch_openml"
      ]
    },
    {
      "cell_type": "code",
      "source": [
        "#fileurl = ('')\n",
        "#df = pd.read_csv(fileurl, delimiter=',')\n",
        "#df.info()\n",
        "#df.head(9)\n",
        "# cargar el dataset\n",
        "\n",
        "mnist = fetch_openml('mnist_784')\n",
        "data = mnist.data\n",
        "target = mnist.target\n",
        "# registros y variables del dataset\n",
        "mnist.data.shape"
      ],
      "metadata": {
        "colab": {
          "base_uri": "https://localhost:8080/"
        },
        "id": "DETAy9T2FGOR",
        "outputId": "0d2ea8fb-b3cd-4a48-b20e-13da6e77e010"
      },
      "execution_count": 3,
      "outputs": [
        {
          "output_type": "execute_result",
          "data": {
            "text/plain": [
              "(70000, 784)"
            ]
          },
          "metadata": {},
          "execution_count": 3
        }
      ]
    },
    {
      "cell_type": "code",
      "source": [
        "# Test split\n",
        "X_train, X_test, y_train, y_test = train_test_split(data, target, random_state=123)"
      ],
      "metadata": {
        "id": "qtwdm3eTljaj"
      },
      "execution_count": 4,
      "outputs": []
    },
    {
      "cell_type": "code",
      "source": [
        "# Inicializar el scaler\n",
        "scaler = StandardScaler()\n",
        "# APC con 93% precision\n",
        "apc = PCA(.93)\n",
        "\n",
        "processor = make_pipeline(scaler, apc)\n",
        "processor.fit_transform(X_train).shape"
      ],
      "metadata": {
        "colab": {
          "base_uri": "https://localhost:8080/"
        },
        "id": "Jv6-0M5ZmB7p",
        "outputId": "6343a9af-206b-4fc9-e3c9-953b8943499f"
      },
      "execution_count": 7,
      "outputs": [
        {
          "output_type": "execute_result",
          "data": {
            "text/plain": [
              "(52500, 277)"
            ]
          },
          "metadata": {},
          "execution_count": 7
        }
      ]
    },
    {
      "cell_type": "code",
      "source": [
        "# Regresion logistica aplicada al dataset\n",
        "lr = LogisticRegression(solver = 'lbfgs', max_iter = 9999)\n",
        "\n",
        "lr_pipeline = make_pipeline(processor, lr)"
      ],
      "metadata": {
        "id": "eUeimW_Mmexa"
      },
      "execution_count": 9,
      "outputs": []
    },
    {
      "cell_type": "code",
      "source": [
        "lr_pipeline.fit(X_train, y_train)"
      ],
      "metadata": {
        "colab": {
          "base_uri": "https://localhost:8080/"
        },
        "id": "gvoF8MK0mYWw",
        "outputId": "2539875d-ba28-4658-c14f-7edd2650cb27"
      },
      "execution_count": 11,
      "outputs": [
        {
          "output_type": "execute_result",
          "data": {
            "text/plain": [
              "Pipeline(steps=[('pipeline',\n",
              "                 Pipeline(steps=[('standardscaler', StandardScaler()),\n",
              "                                 ('pca', PCA(n_components=0.93))])),\n",
              "                ('logisticregression', LogisticRegression(max_iter=9999))])"
            ]
          },
          "metadata": {},
          "execution_count": 11
        }
      ]
    },
    {
      "cell_type": "code",
      "source": [
        "print('Entrenamiento:', lr_pipeline.score(X_train, y_train))\n",
        "print('Prueba:', lr_pipeline.score(X_test, y_test))"
      ],
      "metadata": {
        "colab": {
          "base_uri": "https://localhost:8080/"
        },
        "id": "hWiZJqYcpDnt",
        "outputId": "d9e53fee-4b77-4a62-becd-7d653bf09b8c"
      },
      "execution_count": 12,
      "outputs": [
        {
          "output_type": "stream",
          "name": "stdout",
          "text": [
            "Entrenamiento: 0.9355809523809524\n",
            "Prueba: 0.9215428571428571\n"
          ]
        }
      ]
    }
  ]
}