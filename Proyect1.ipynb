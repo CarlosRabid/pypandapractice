{
  "nbformat": 4,
  "nbformat_minor": 0,
  "metadata": {
    "colab": {
      "name": "Proyect1.ipynb",
      "provenance": [],
      "collapsed_sections": [],
      "mount_file_id": "1Hco4Ba78IQYQF0pXzEKFC7jhkDbMjFAH",
      "authorship_tag": "ABX9TyPjkUCy5kMAac9vdDCbBXPt"
    },
    "kernelspec": {
      "name": "python3",
      "display_name": "Python 3"
    },
    "language_info": {
      "name": "python"
    }
  },
  "cells": [
    {
      "cell_type": "markdown",
      "source": [
        "# Data parsing"
      ],
      "metadata": {
        "id": "33Jd8XzD_-Ee"
      }
    },
    {
      "cell_type": "code",
      "execution_count": null,
      "metadata": {
        "id": "dvGKjffqQYpr"
      },
      "outputs": [],
      "source": [
        "import pandas as pd\n",
        "import numpy as np\n",
        "from sklearn.preprocessing import StandardScaler\n",
        "from sklearn.neighbors import KNeighborsClassifier, KNeighborsRegressor\n",
        "from sklearn.metrics import mean_squared_error\n",
        "filename = ('/content/drive/MyDrive/Colab Notebooks/coding dojo/PTDataScience/PandasParaManipulaciónDeDatos/sales_predictions.csv')\n",
        "help(pd.read_csv)"
      ]
    },
    {
      "cell_type": "code",
      "source": [
        "df = pd.read_csv(filename, delimiter=',')\n",
        "df.head()\n",
        "df.info()\n",
        "df.describe(include=[object])\n",
        "df.describe(include='all')"
      ],
      "metadata": {
        "id": "id9AuH-3M8j8"
      },
      "execution_count": null,
      "outputs": []
    },
    {
      "cell_type": "markdown",
      "source": [
        "# Definimos data"
      ],
      "metadata": {
        "id": "-MunD60YAJDw"
      }
    },
    {
      "cell_type": "code",
      "source": [
        "finalColumns = ['Item_Identifier', 'Item_Weight', 'Item_Fat_Content', 'Item_Visibility', 'Item_Type', 'Item_MRP', 'Item_Outlet_Sales']\n",
        "df = pd.melt(df, id_vars = finalColumns)\n",
        "df2 = df"
      ],
      "metadata": {
        "id": "isWVlsvmCDd0"
      },
      "execution_count": 57,
      "outputs": []
    },
    {
      "cell_type": "code",
      "source": [
        "\n",
        "\n",
        "#df2['Item_Fat_Content'] = df2['Item_Fat_Content'].replace('Low Fat', \" \", inplace=True)\n",
        "df2['Item_Fat_Content'] = df2['Item_Fat_Content'].replace('low fat','0', inplace=True)\n",
        "#df2['Item_Fat_Content'] = df2['Item_Fat_Content'].replace('LF','0', inplace=True)\n",
        "df2['Item_Fat_Content'] = df2['Item_Fat_Content'].replace('Regular','1', inplace=True)\n",
        "df2['Item_Fat_Content'] = df2['Item_Fat_Content'].replace('reg','1', inplace=True)\n",
        "df2['Item_Type'] = df2['Item_Type'].replace('Dairy','0', inplace=True)\n",
        "df2['Item_Type'] = df2['Item_Type'].replace('Soft Drinks','1', inplace=True)\n",
        "df2['Item_Type'] = df2['Item_Type'].replace('Meat','2', inplace=True)\n",
        "df2['Item_Type'] = df2['Item_Type'].replace('Fruits and Vegetables','3', inplace=True)\n",
        "df2['Item_Type'] = df2['Item_Type'].replace('Household','4', inplace=True)\n",
        "df2['Item_Type'] = df2['Item_Type'].replace('Baking Goods','5', inplace=True)\n",
        "df2['Item_Type'] = df2['Item_Type'].replace('Snack Foods','6', inplace=True)\n",
        "df2['Item_Type'] = df2['Item_Type'].replace('Frozen Foods','7', inplace=True)\n",
        "df2['Item_Type'] = df2['Item_Type'].replace('Breakfast','8', inplace=True)\n",
        "df2['Item_Type'] = df2['Item_Type'].replace('Health and Hygiene','9', inplace=True)\n",
        "df2['Item_Type'] = df2['Item_Type'].replace('Hard Drinks','10', inplace=True)\n",
        "df2['Item_Type'] = df2['Item_Type'].replace('Canned','11', inplace=True)\n",
        "df2['Item_Type'] = df2['Item_Type'].replace('Breads','12', inplace=True)\n",
        "df2['Item_Type'] = df2['Item_Type'].replace('Starchy Foods','13', inplace=True)\n",
        "df2['Item_Type'] = df2['Item_Type'].replace('Others','14', inplace=True)\n",
        "df2['Item_Type'] = df2['Item_Type'].replace('Seafood','15', inplace=True)\n"
      ],
      "metadata": {
        "id": "KRwXaQ-dNuuM"
      },
      "execution_count": 58,
      "outputs": []
    },
    {
      "cell_type": "markdown",
      "source": [
        "Eliminamos vacios"
      ],
      "metadata": {
        "id": "m5d3x_NGJto6"
      }
    },
    {
      "cell_type": "code",
      "source": [
        "df2['Item_Fat_Content'].fillna(0, inplace=True)\n",
        "df2['Item_Fat_Content'] = df2['Item_Fat_Content'].astype(int)\n",
        "df2['Item_Type'].fillna(0, inplace=True)\n",
        "df2['Item_Type'] = df2['Item_Type'].astype(int)\n",
        "df2['Item_Visibility'] = df2['Item_Visibility'].astype(int)\n",
        "df2['Item_MRP'] = df2['Item_MRP'].astype(int)\n",
        "df2['Item_Outlet_Sales'] = df2['Item_Outlet_Sales'].astype(int)"
      ],
      "metadata": {
        "id": "ae65ePZBH67R"
      },
      "execution_count": 82,
      "outputs": []
    },
    {
      "cell_type": "code",
      "source": [
        "x = df2[['Item_Fat_Content', 'Item_Visibility', 'Item_Type', 'Item_MRP']]\n",
        "y = df2['Item_Outlet_Sales']"
      ],
      "metadata": {
        "id": "W9ED9_JiJqOQ"
      },
      "execution_count": 88,
      "outputs": []
    },
    {
      "cell_type": "markdown",
      "source": [
        "# Regresion"
      ],
      "metadata": {
        "id": "dVHcuwdjA8zq"
      }
    },
    {
      "cell_type": "code",
      "source": [
        "# escalamos la data\n",
        "scaler = StandardScaler()\n",
        "scaler.fit(x)\n",
        "x = scaler.transform(x)\n",
        "knn_reg = KNeighborsRegressor()\n",
        "knn_reg.fit(x,y)\n",
        "sales_predict = knn_reg.predict(x)"
      ],
      "metadata": {
        "id": "gPGTdMmS-8nX"
      },
      "execution_count": 89,
      "outputs": []
    },
    {
      "cell_type": "code",
      "source": [
        "knn_reg.score(x,y)"
      ],
      "metadata": {
        "colab": {
          "base_uri": "https://localhost:8080/"
        },
        "id": "YDPq_1cbBEUF",
        "outputId": "72d480f9-0e9d-4b3d-9548-bbecd9c8f05b"
      },
      "execution_count": 90,
      "outputs": [
        {
          "output_type": "execute_result",
          "data": {
            "text/plain": [
              "0.22052923693302517"
            ]
          },
          "metadata": {},
          "execution_count": 90
        }
      ]
    },
    {
      "cell_type": "code",
      "source": [
        "mean_squared_error(y, sales_predict, squared=True)"
      ],
      "metadata": {
        "colab": {
          "base_uri": "https://localhost:8080/"
        },
        "id": "AbHwHqYwKUPG",
        "outputId": "7ddb1f10-f366-4a6d-a888-a9f8f7199739"
      },
      "execution_count": 91,
      "outputs": [
        {
          "output_type": "execute_result",
          "data": {
            "text/plain": [
              "2269656.1196386246"
            ]
          },
          "metadata": {},
          "execution_count": 91
        }
      ]
    },
    {
      "cell_type": "code",
      "source": [
        "np.sqrt(mean_squared_error(y, sales_predict))"
      ],
      "metadata": {
        "colab": {
          "base_uri": "https://localhost:8080/"
        },
        "id": "CwTuQ_8NBIN8",
        "outputId": "9c0a376b-0547-4def-ec01-39a69c52d9f0"
      },
      "execution_count": 92,
      "outputs": [
        {
          "output_type": "execute_result",
          "data": {
            "text/plain": [
              "1506.5377923034737"
            ]
          },
          "metadata": {},
          "execution_count": 92
        }
      ]
    },
    {
      "cell_type": "markdown",
      "source": [
        "Se utilizó un método de regresión lineal sin clasificación a fin de determinar el nivel de predicción de ventas en nuestro modelo.\n",
        "Con las variables categoricas utilizadas, el modelo arroja una regresion de 0.22 puntos, con lo cual las variables no son adecuadas para determinar una prediccion de ventas correlacionadas."
      ],
      "metadata": {
        "id": "HMcEKSDzJ4F6"
      }
    },
    {
      "cell_type": "markdown",
      "source": [
        "# Clasificacion"
      ],
      "metadata": {
        "id": "6NLZdcgzLGPg"
      }
    },
    {
      "cell_type": "code",
      "source": [
        "df2.info()"
      ],
      "metadata": {
        "colab": {
          "base_uri": "https://localhost:8080/"
        },
        "id": "JtfCVrTHM9rM",
        "outputId": "a55d09f4-56fe-466b-b67b-0dd94326814f"
      },
      "execution_count": 85,
      "outputs": [
        {
          "output_type": "stream",
          "name": "stdout",
          "text": [
            "<class 'pandas.core.frame.DataFrame'>\n",
            "RangeIndex: 42615 entries, 0 to 42614\n",
            "Data columns (total 9 columns):\n",
            " #   Column             Non-Null Count  Dtype  \n",
            "---  ------             --------------  -----  \n",
            " 0   Item_Identifier    42615 non-null  object \n",
            " 1   Item_Weight        35300 non-null  float64\n",
            " 2   Item_Fat_Content   42615 non-null  int64  \n",
            " 3   Item_Visibility    42615 non-null  int64  \n",
            " 4   Item_Type          42615 non-null  int64  \n",
            " 5   Item_MRP           42615 non-null  int64  \n",
            " 6   Item_Outlet_Sales  42615 non-null  float64\n",
            " 7   variable           42615 non-null  object \n",
            " 8   value              40205 non-null  object \n",
            "dtypes: float64(2), int64(4), object(3)\n",
            "memory usage: 2.9+ MB\n"
          ]
        }
      ]
    },
    {
      "cell_type": "code",
      "source": [
        "\n",
        "x1 = df2[['Item_Fat_Content', 'Item_Visibility', 'Item_Type', 'Item_MRP']]\n",
        "y1 = df2['Item_Outlet_Sales']\n",
        "scaler = StandardScaler()\n",
        "scaler.fit(x1)\n",
        "x1 = scaler.transform(x1)\n"
      ],
      "metadata": {
        "id": "c2urSUFsLHpY"
      },
      "execution_count": 86,
      "outputs": []
    },
    {
      "cell_type": "code",
      "source": [
        "knn_class = KNeighborsClassifier()\n",
        "knn_class.fit(x1,y1)\n",
        "knn_class.score(x1,y1)"
      ],
      "metadata": {
        "colab": {
          "base_uri": "https://localhost:8080/"
        },
        "id": "6-ULsxOYLM1M",
        "outputId": "7e7e3dba-d0c4-4a8a-89e3-e7f0de4bd10a"
      },
      "execution_count": 87,
      "outputs": [
        {
          "output_type": "execute_result",
          "data": {
            "text/plain": [
              "0.032500293323946966"
            ]
          },
          "metadata": {},
          "execution_count": 87
        }
      ]
    },
    {
      "cell_type": "markdown",
      "source": [
        "El método de Clasificación arroja un valor NO aproximado a 1, y se acerca a cero, con lo cual se descarta el modelo de clasificación aplicado a las variables en cuestión."
      ],
      "metadata": {
        "id": "9RPO0x0kOESd"
      }
    }
  ]
}