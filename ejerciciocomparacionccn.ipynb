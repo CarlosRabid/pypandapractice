{
  "nbformat": 4,
  "nbformat_minor": 0,
  "metadata": {
    "colab": {
      "name": "ejerciciocomparacionccn.ipynb",
      "provenance": [],
      "authorship_tag": "ABX9TyPw03Zz/Dz7QZNyMRoLcbk3"
    },
    "kernelspec": {
      "name": "python3",
      "display_name": "Python 3"
    },
    "language_info": {
      "name": "python"
    }
  },
  "cells": [
    {
      "cell_type": "code",
      "execution_count": null,
      "metadata": {
        "id": "KYq_ztazP1Wd"
      },
      "outputs": [],
      "source": [
        ""
      ]
    }
  ]
}