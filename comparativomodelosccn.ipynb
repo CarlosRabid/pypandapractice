{
  "nbformat": 4,
  "nbformat_minor": 0,
  "metadata": {
    "colab": {
      "name": "comparativomodelosccn.ipynb",
      "provenance": [],
      "authorship_tag": "ABX9TyM4jkYhhRC32n22PolszzGh"
    },
    "kernelspec": {
      "name": "python3",
      "display_name": "Python 3"
    },
    "language_info": {
      "name": "python"
    }
  },
  "cells": [
    {
      "cell_type": "code",
      "execution_count": 22,
      "metadata": {
        "colab": {
          "base_uri": "https://localhost:8080/"
        },
        "id": "162hsl07hZFw",
        "outputId": "38264030-7577-47a1-f847-abce488939f6"
      },
      "outputs": [
        {
          "output_type": "stream",
          "name": "stdout",
          "text": [
            "<class 'pandas.core.frame.DataFrame'>\n",
            "RangeIndex: 178 entries, 0 to 177\n",
            "Data columns (total 14 columns):\n",
            " #   Column                        Non-Null Count  Dtype  \n",
            "---  ------                        --------------  -----  \n",
            " 0   Class label                   178 non-null    int64  \n",
            " 1   Alcohol                       178 non-null    float64\n",
            " 2   Malic acid                    178 non-null    float64\n",
            " 3   Ash                           178 non-null    float64\n",
            " 4   Alcalinity of ash             178 non-null    float64\n",
            " 5   Magnesium                     178 non-null    int64  \n",
            " 6   Total phenois                 178 non-null    float64\n",
            " 7   Flavanoids                    178 non-null    float64\n",
            " 8   Nonflavanoid phenois          178 non-null    float64\n",
            " 9   Proanthocyanins               178 non-null    float64\n",
            " 10  Color intensity               178 non-null    float64\n",
            " 11  hue                           178 non-null    float64\n",
            " 12  OD280/OD315 of diluted wines  178 non-null    float64\n",
            " 13  Proline                       178 non-null    int64  \n",
            "dtypes: float64(11), int64(3)\n",
            "memory usage: 19.6 KB\n"
          ]
        },
        {
          "output_type": "execute_result",
          "data": {
            "text/plain": [
              "Class label                     0\n",
              "Alcohol                         0\n",
              "Malic acid                      0\n",
              "Ash                             0\n",
              "Alcalinity of ash               0\n",
              "Magnesium                       0\n",
              "Total phenois                   0\n",
              "Flavanoids                      0\n",
              "Nonflavanoid phenois            0\n",
              "Proanthocyanins                 0\n",
              "Color intensity                 0\n",
              "hue                             0\n",
              "OD280/OD315 of diluted wines    0\n",
              "Proline                         0\n",
              "dtype: int64"
            ]
          },
          "metadata": {},
          "execution_count": 22
        }
      ],
      "source": [
        "import matplotlib.pyplot as plt\n",
        "import seaborn as sns\n",
        "import pandas as pd\n",
        "import numpy as np\n",
        "from sklearn.preprocessing import StandardScaler\n",
        "from sklearn.neighbors import KNeighborsClassifier, KNeighborsRegressor\n",
        "from sklearn.metrics import mean_squared_error\n",
        "from sklearn.model_selection import train_test_split\n",
        "from sklearn.ensemble import BaggingRegressor, RandomForestRegressor, BaggingClassifier, RandomForestClassifier\n",
        "from sklearn.linear_model import LogisticRegression\n",
        "\n",
        "columnsn = ['Class label', 'Alcohol', 'Malic acid', 'Ash', 'Alcalinity of ash','Magnesium', \n",
        "           'Total phenois', 'Flavanoids', 'Nonflavanoid phenois', 'Proanthocyanins', 'Color intensity', 'hue', 'OD280/OD315 of diluted wines', 'Proline']\n",
        "fileurl = ('https://archive.ics.uci.edu/ml/machine-learning-databases/wine/wine.data')\n",
        "df = pd.read_csv(fileurl, delimiter=',', names = columnsn)\n",
        "df.info()\n",
        "df.isnull().sum()"
      ]
    },
    {
      "cell_type": "code",
      "source": [
        "df['Class label'].value_counts()"
      ],
      "metadata": {
        "colab": {
          "base_uri": "https://localhost:8080/"
        },
        "id": "8X5owLHosfLD",
        "outputId": "d8771c55-50bd-45c8-ad89-23c36fd5b548"
      },
      "execution_count": 10,
      "outputs": [
        {
          "output_type": "execute_result",
          "data": {
            "text/plain": [
              "2    71\n",
              "1    59\n",
              "3    48\n",
              "Name: Class label, dtype: int64"
            ]
          },
          "metadata": {},
          "execution_count": 10
        }
      ]
    },
    {
      "cell_type": "markdown",
      "source": [
        "Objetivos = clases 1,2,3"
      ],
      "metadata": {
        "id": "wkKr9UlmsrCd"
      }
    },
    {
      "cell_type": "code",
      "source": [
        "#x y y\n",
        "X = df.drop(columns = 'Class label')\n",
        "y = df['Class label']\n",
        "# Entrenamos test split\n",
        "X_train, X_test, y_train, y_test = train_test_split(X,y,test_size=0.3,random_state=0,stratify=y)"
      ],
      "metadata": {
        "id": "M-z2j5XVsvqL"
      },
      "execution_count": 25,
      "outputs": []
    },
    {
      "cell_type": "markdown",
      "source": [
        "# Regresion logistica comparacion individual"
      ],
      "metadata": {
        "id": "2LpS6GZXt5df"
      }
    },
    {
      "cell_type": "code",
      "source": [
        "# estandarizacion de data\n",
        "scaler = StandardScaler()\n",
        "# encajamos en el modelo de entrenamiento\n",
        "scaler.fit(X_train)\n",
        "#Aplicamos transformacion para ambos modelos\n",
        "X_train = scaler.transform(X_train)\n",
        "X_test = scaler.transform(X_test)"
      ],
      "metadata": {
        "id": "wHjD9OrytZsB"
      },
      "execution_count": 26,
      "outputs": []
    },
    {
      "cell_type": "code",
      "source": [
        "\n",
        "#comparacion individual\n",
        "from sklearn.multiclass import OneVsOneClassifier\n",
        "\n",
        "log_reg = LogisticRegression()\n",
        "o_v_1 = OneVsOneClassifier(log_reg)\n",
        "o_v_1.fit(X_train, y_train)\n",
        "\n",
        "print('El modelo de entrenamiento tiene una aproximación de ', o_v_1.score(X_train,y_train))\n",
        "print('El modelo de prueba tiene una aproximación de ', o_v_1.score(X_test,y_test))"
      ],
      "metadata": {
        "colab": {
          "base_uri": "https://localhost:8080/"
        },
        "id": "I-CYglaUuK1A",
        "outputId": "0debc0f8-686f-4c17-c95c-d9ddb0bf9ce7"
      },
      "execution_count": 13,
      "outputs": [
        {
          "output_type": "stream",
          "name": "stdout",
          "text": [
            "El modelo de entrenamiento tiene una aproximación de  1.0\n",
            "El modelo de prueba tiene una aproximación de  1.0\n"
          ]
        }
      ]
    },
    {
      "cell_type": "markdown",
      "source": [
        "# Regresion logistica comparacion colectiva"
      ],
      "metadata": {
        "id": "csHzR2Gevqp9"
      }
    },
    {
      "cell_type": "code",
      "source": [
        "log_reg = LogisticRegression(multi_class='ovr')\n",
        "log_reg.fit(X_train, y_train)\n",
        "\n",
        "print('El modelo de entrenamiento tiene una aproximación de ', log_reg.score(X_train,y_train))\n",
        "print('El modelo de prueba tiene una aproximación de ', log_reg.score(X_test,y_test))"
      ],
      "metadata": {
        "colab": {
          "base_uri": "https://localhost:8080/"
        },
        "id": "gFXupUEKvu7g",
        "outputId": "4e6054ee-8678-4615-e7e8-e8d3dbd07b7e"
      },
      "execution_count": 14,
      "outputs": [
        {
          "output_type": "stream",
          "name": "stdout",
          "text": [
            "El modelo de entrenamiento tiene una aproximación de  1.0\n",
            "El modelo de prueba tiene una aproximación de  1.0\n"
          ]
        }
      ]
    },
    {
      "cell_type": "markdown",
      "source": [
        "# Reg Logistica - regularizacion l1"
      ],
      "metadata": {
        "id": "6j4YWAy1wOZT"
      }
    },
    {
      "cell_type": "code",
      "source": [
        "log_reg = LogisticRegression(penalty='l1', solver='liblinear')\n",
        "log_reg.fit(X_train, y_train)\n",
        "\n",
        "print('El modelo de entrenamiento tiene una aproximación de ', log_reg.score(X_train,y_train))\n",
        "print('El modelo de prueba tiene una aproximación de ', log_reg.score(X_test,y_test))"
      ],
      "metadata": {
        "colab": {
          "base_uri": "https://localhost:8080/"
        },
        "id": "ImKMwG8_wSvn",
        "outputId": "8333fc9b-593b-4d10-d9b0-09c26b0bbc2a"
      },
      "execution_count": 15,
      "outputs": [
        {
          "output_type": "stream",
          "name": "stdout",
          "text": [
            "El modelo de entrenamiento tiene una aproximación de  1.0\n",
            "El modelo de prueba tiene una aproximación de  1.0\n"
          ]
        }
      ]
    },
    {
      "cell_type": "markdown",
      "source": [
        "# Reg logistica - regularizacion l2"
      ],
      "metadata": {
        "id": "vYg7sVgwwlCl"
      }
    },
    {
      "cell_type": "code",
      "source": [
        "log_reg = LogisticRegression(penalty='l2')\n",
        "log_reg.fit(X_train, y_train)\n",
        "\n",
        "print('El modelo de entrenamiento tiene una aproximación de ', log_reg.score(X_train,y_train))\n",
        "print('El modelo de prueba tiene una aproximación de ', log_reg.score(X_test,y_test))"
      ],
      "metadata": {
        "colab": {
          "base_uri": "https://localhost:8080/"
        },
        "id": "U8LBxb_gwmdq",
        "outputId": "d139e4f3-bf38-4e8b-c918-290cade62d97"
      },
      "execution_count": 17,
      "outputs": [
        {
          "output_type": "stream",
          "name": "stdout",
          "text": [
            "El modelo de entrenamiento tiene una aproximación de  1.0\n",
            "El modelo de prueba tiene una aproximación de  1.0\n"
          ]
        }
      ]
    },
    {
      "cell_type": "markdown",
      "source": [
        "# KNN"
      ],
      "metadata": {
        "id": "rxyid1p-wuS2"
      }
    },
    {
      "cell_type": "code",
      "source": [
        "knn = KNeighborsClassifier()\n",
        "knn.fit(X_train, y_train)\n",
        "\n",
        "print('El modelo de entrenamiento tiene una aproximación de ', knn.score(X_train,y_train))\n",
        "print('El modelo de prueba tiene una aproximación de ', knn.score(X_test,y_test))"
      ],
      "metadata": {
        "colab": {
          "base_uri": "https://localhost:8080/"
        },
        "id": "O56YXc68wyOl",
        "outputId": "8a6ee269-f4a6-41e8-c161-5e99837a1392"
      },
      "execution_count": 16,
      "outputs": [
        {
          "output_type": "stream",
          "name": "stdout",
          "text": [
            "El modelo de entrenamiento tiene una aproximación de  0.967741935483871\n",
            "El modelo de prueba tiene una aproximación de  0.9629629629629629\n"
          ]
        }
      ]
    },
    {
      "cell_type": "markdown",
      "source": [
        "# Arbol anidado"
      ],
      "metadata": {
        "id": "H4YjxMyMxF9w"
      }
    },
    {
      "cell_type": "code",
      "source": [
        "bt = BaggingClassifier()\n",
        "bt.fit(X_train, y_train)\n",
        "\n",
        "print('El modelo de entrenamiento tiene una aproximación de ', bt.score(X_train,y_train))\n",
        "print('El modelo de prueba tiene una aproximación de ', bt.score(X_test,y_test))"
      ],
      "metadata": {
        "colab": {
          "base_uri": "https://localhost:8080/"
        },
        "id": "XXacWn07xIrs",
        "outputId": "0e055721-2e9a-4f9a-fd11-b2cd9ac94b30"
      },
      "execution_count": 19,
      "outputs": [
        {
          "output_type": "stream",
          "name": "stdout",
          "text": [
            "El modelo de entrenamiento tiene una aproximación de  1.0\n",
            "El modelo de prueba tiene una aproximación de  0.9814814814814815\n"
          ]
        }
      ]
    },
    {
      "cell_type": "markdown",
      "source": [
        "# Arbol aleatorio"
      ],
      "metadata": {
        "id": "p-m0GlnCxfn3"
      }
    },
    {
      "cell_type": "code",
      "source": [
        "rf = RandomForestClassifier()\n",
        "rf.fit(X_train, y_train)\n",
        "\n",
        "print('El modelo de entrenamiento tiene una aproximación de ', rf.score(X_train,y_train))\n",
        "print('El modelo de prueba tiene una aproximación de ', rf.score(X_test,y_test))"
      ],
      "metadata": {
        "colab": {
          "base_uri": "https://localhost:8080/"
        },
        "id": "q9jDLK0axhM0",
        "outputId": "78ccf7c6-09aa-4cfc-e059-dd5cab42b04b"
      },
      "execution_count": 27,
      "outputs": [
        {
          "output_type": "stream",
          "name": "stdout",
          "text": [
            "El modelo de entrenamiento tiene una aproximación de  1.0\n",
            "El modelo de prueba tiene una aproximación de  1.0\n"
          ]
        }
      ]
    },
    {
      "cell_type": "markdown",
      "source": [
        "1. ¿Qué modelo funcionó mejor?\n",
        "2. ¿Cuáles son las características más importantes de tus modelos? ¿Hay algún modelo que te haya gustado más y por qué?"
      ],
      "metadata": {
        "id": "Vix2TfSQyd8E"
      }
    },
    {
      "cell_type": "code",
      "source": [
        "# 1 : Regresión logística en todos sus casos, y árbol aleatorio"
      ],
      "metadata": {
        "id": "bYcamozXypVh"
      },
      "execution_count": null,
      "outputs": []
    },
    {
      "cell_type": "code",
      "source": [
        "# 2 : Para evaluar características\n",
        "caract_df = pd.DataFrame(zip(X.columns, log_reg.coef_[0]), columns = ['Caracteristica', 'Coeficiente'])\n",
        "caract_df.sort_values(by='Coeficiente', inplace = True)\n",
        "\n",
        "plt.figure(figsize = (12, 5))\n",
        "plt.barh(caract_df['Caracteristica'], caract_df['Coeficiente'])\n",
        "plt.title('Evaluacion de caracteristicas')"
      ],
      "metadata": {
        "colab": {
          "base_uri": "https://localhost:8080/",
          "height": 354
        },
        "id": "LcoV7S_1yz5A",
        "outputId": "42e111cc-993f-497f-fbef-c6efa94ed321"
      },
      "execution_count": 29,
      "outputs": [
        {
          "output_type": "execute_result",
          "data": {
            "text/plain": [
              "Text(0.5, 1.0, 'Evaluacion de caracteristicas')"
            ]
          },
          "metadata": {},
          "execution_count": 29
        },
        {
          "output_type": "display_data",
          "data": {
            "image/png": "[encoded data removed]",
            "text/plain": [
              "<Figure size 864x360 with 1 Axes>"
            ]
          },
          "metadata": {
            "needs_background": "light"
          }
        }
      ]
    }
  ]
}