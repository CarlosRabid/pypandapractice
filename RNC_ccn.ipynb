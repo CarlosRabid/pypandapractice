{
  "nbformat": 4,
  "nbformat_minor": 0,
  "metadata": {
    "colab": {
      "name": "RNC_ccn.ipynb",
      "provenance": [],
      "collapsed_sections": [],
      "mount_file_id": "1OxGrGoiDe0jM6x97bLi4dTFwMAboSvD7",
      "authorship_tag": "ABX9TyNhQ8m6NjOQG0FILQKk4Pbv"
    },
    "kernelspec": {
      "name": "python3",
      "display_name": "Python 3"
    },
    "language_info": {
      "name": "python"
    }
  },
  "cells": [
    {
      "cell_type": "code",
      "execution_count": 3,
      "metadata": {
        "id": "1nTdqon_xIB4"
      },
      "outputs": [],
      "source": [
        "# Librerias\n",
        "import matplotlib.pyplot as plt\n",
        "import seaborn as sns\n",
        "import pandas as pd\n",
        "import numpy as np\n",
        "# RNC\n",
        "from sklearn.preprocessing import StandardScaler\n",
        "from sklearn.model_selection import train_test_split\n",
        "from tensorflow.keras.models import Sequential\n",
        "from tensorflow.keras.layers import Dense, Flatten, Conv2D, MaxPooling2D, Dropout\n",
        "from tensorflow.keras.utils import to_categorical\n",
        "from sklearn.metrics import accuracy_score"
      ]
    },
    {
      "cell_type": "code",
      "source": [
        "train = ('/content/drive/MyDrive/Colab Notebooks/coding dojo/PTUnsuperML/fashion data/fashion-mnist_train.csv')\n",
        "test = ('/content/drive/MyDrive/Colab Notebooks/coding dojo/PTUnsuperML/fashion data/fashion-mnist_test.csv')\n",
        "train_df = pd.read_csv(train, delimiter=\",\")\n",
        "test_df = pd.read_csv(test, delimiter=\",\")"
      ],
      "metadata": {
        "id": "ZKA0UPzVxOHQ"
      },
      "execution_count": 4,
      "outputs": []
    },
    {
      "cell_type": "code",
      "source": [
        "# Reescalamos data entre 0 y 1\n",
        "# \n",
        "X_train = train_df.drop(columns = 'label')/255\n",
        "X_test = test_df.drop(columns = 'label')/255\n",
        "y_train = train_df['label']\n",
        "y_test = test_df['label']"
      ],
      "metadata": {
        "id": "TYurqV7QSl_W"
      },
      "execution_count": 5,
      "outputs": []
    },
    {
      "cell_type": "code",
      "source": [
        "# Split del dataset \n",
        "X_train, X_val, y_train, y_val = train_test_split(X_train, y_train, test_size = 0.2, random_state = 111)\n",
        "X_train.shape"
      ],
      "metadata": {
        "colab": {
          "base_uri": "https://localhost:8080/"
        },
        "id": "IwCpxeXnSxL9",
        "outputId": "6e1421ee-a135-443f-f3f4-736b38e4b276"
      },
      "execution_count": 6,
      "outputs": [
        {
          "output_type": "execute_result",
          "data": {
            "text/plain": [
              "(48000, 784)"
            ]
          },
          "metadata": {},
          "execution_count": 6
        }
      ]
    },
    {
      "cell_type": "code",
      "source": [
        "# Revisamos imagenes\n",
        "class_names = {0: 'T-shirt/top', 1: 'Trouser', 2: 'Pullover', 3: 'Dress', 4: 'Coat',\n",
        "               5: 'Sandal', 6: 'Shirt', 7: 'Sneaker', 8: 'Bag', 9: 'Ankle boot'}\n",
        "\n",
        "plt.imshow(np.array(X_train.loc[0, :]).reshape(28, 28))\n",
        "plt.title('{}'.format(class_names[y_train[0]]));"
      ],
      "metadata": {
        "colab": {
          "base_uri": "https://localhost:8080/",
          "height": 281
        },
        "id": "soJdiZoBS3Os",
        "outputId": "4dc98628-dcbb-4793-a604-2c378519e77e"
      },
      "execution_count": 7,
      "outputs": [
        {
          "output_type": "display_data",
          "data": {
            "text/plain": [
              "<Figure size 432x288 with 1 Axes>"
            ],
            "image/png": "[encoded data removed]"
          },
          "metadata": {
            "needs_background": "light"
          }
        }
      ]
    },
    {
      "cell_type": "code",
      "source": [
        "plt.imshow(np.array(X_train.loc[1, :]).reshape(28, 28))\n",
        "plt.title('{}'.format(class_names[y_train[1]]));"
      ],
      "metadata": {
        "colab": {
          "base_uri": "https://localhost:8080/",
          "height": 281
        },
        "id": "z2zZ6zVmTH_X",
        "outputId": "f02b4fd8-6d93-4ddb-fe50-3ddf4c73ce84"
      },
      "execution_count": 8,
      "outputs": [
        {
          "output_type": "display_data",
          "data": {
            "text/plain": [
              "<Figure size 432x288 with 1 Axes>"
            ],
            "image/png": "[encoded data removed]"
          },
          "metadata": {
            "needs_background": "light"
          }
        }
      ]
    },
    {
      "cell_type": "code",
      "source": [
        "plt.imshow(np.array(X_train.loc[20, :]).reshape(28, 28))\n",
        "plt.title('{}'.format(class_names[y_train[20]]));"
      ],
      "metadata": {
        "colab": {
          "base_uri": "https://localhost:8080/",
          "height": 281
        },
        "id": "AXTDywZeTLjK",
        "outputId": "4b11d246-d7e1-4e6f-cc0c-3b5b80b8dc2a"
      },
      "execution_count": 9,
      "outputs": [
        {
          "output_type": "display_data",
          "data": {
            "text/plain": [
              "<Figure size 432x288 with 1 Axes>"
            ],
            "image/png": "[encoded data removed]"
          },
          "metadata": {
            "needs_background": "light"
          }
        }
      ]
    },
    {
      "cell_type": "code",
      "source": [
        "# Ensamblamos la data\n",
        "X_train = np.array(X_train).reshape(X_train.shape[0], 28, 28, 1)\n",
        "X_val = np.array(X_val).reshape(X_val.shape[0], 28, 28, 1)\n",
        "# Convertimos el objetivo a categorico\n",
        "y_train = to_categorical(y_train, num_classes = 10)\n",
        "y_val = to_categorical(y_val, num_classes = 10)\n",
        "# Step 1: Define our network structure\n",
        "# Save the input shape\n",
        "input_shape = X_train.shape[1:4]\n",
        "input_shape"
      ],
      "metadata": {
        "colab": {
          "base_uri": "https://localhost:8080/"
        },
        "id": "Rierj5jhTQPL",
        "outputId": "ca24f3f7-1cb5-4feb-f022-0fe7624e920f"
      },
      "execution_count": 10,
      "outputs": [
        {
          "output_type": "execute_result",
          "data": {
            "text/plain": [
              "(28, 28, 1)"
            ]
          },
          "metadata": {},
          "execution_count": 10
        }
      ]
    },
    {
      "cell_type": "code",
      "source": [
        "# Modelo secuencial\n",
        "model = Sequential()\n",
        "# Capa convucional \n",
        "model.add(Conv2D(filters = 32, # Filtros\n",
        "                 kernel_size = 3, # tamaño del filtro\n",
        "                 activation = 'relu',\n",
        "                 input_shape = input_shape)) # Tamaño del set de datos\n",
        "# Capa de muestra\n",
        "model.add(MaxPooling2D(pool_size = 2)) # tamaño de muestra\n",
        "Dropout(0.2)\n",
        "# Capa flat\n",
        "model.add(Flatten())\n",
        "# Capa salida\n",
        "model.add(Dense(10, # Posibles resultados\n",
        "                activation = 'softmax')) # Funciones de activacion"
      ],
      "metadata": {
        "id": "PMOT38Z0Txdh"
      },
      "execution_count": 11,
      "outputs": []
    },
    {
      "cell_type": "code",
      "source": [
        "# Step 2: Compilamos\n",
        "model.compile(loss = 'categorical_crossentropy', optimizer = 'adam', metrics = ['acc'])"
      ],
      "metadata": {
        "id": "mPDs1V0jT4OB"
      },
      "execution_count": 12,
      "outputs": []
    },
    {
      "cell_type": "code",
      "source": [
        "# Paso 3: Encajamos al modelo\n",
        "history = model.fit(X_train, y_train,\n",
        "                    validation_data = (X_val, y_val), \n",
        "                    batch_size = 4096,\n",
        "                    epochs=61)"
      ],
      "metadata": {
        "colab": {
          "base_uri": "https://localhost:8080/"
        },
        "id": "nV-gvvFbUOZz",
        "outputId": "bd3b8ef6-8bad-43d7-b664-1da4d27557f8"
      },
      "execution_count": 14,
      "outputs": [
        {
          "output_type": "stream",
          "name": "stdout",
          "text": [
            "Epoch 1/61\n",
            "12/12 [==============================] - 23s 2s/step - loss: 0.4707 - acc: 0.8396 - val_loss: 0.4710 - val_acc: 0.8378\n",
            "Epoch 2/61\n",
            "12/12 [==============================] - 15s 1s/step - loss: 0.4509 - acc: 0.8466 - val_loss: 0.4552 - val_acc: 0.8418\n",
            "Epoch 3/61\n",
            "12/12 [==============================] - 14s 1s/step - loss: 0.4355 - acc: 0.8515 - val_loss: 0.4430 - val_acc: 0.8453\n",
            "Epoch 4/61\n",
            "12/12 [==============================] - 15s 1s/step - loss: 0.4227 - acc: 0.8554 - val_loss: 0.4304 - val_acc: 0.8500\n",
            "Epoch 5/61\n",
            "12/12 [==============================] - 15s 1s/step - loss: 0.4110 - acc: 0.8597 - val_loss: 0.4216 - val_acc: 0.8535\n",
            "Epoch 6/61\n",
            "12/12 [==============================] - 15s 1s/step - loss: 0.4018 - acc: 0.8634 - val_loss: 0.4127 - val_acc: 0.8571\n",
            "Epoch 7/61\n",
            "12/12 [==============================] - 15s 1s/step - loss: 0.3933 - acc: 0.8654 - val_loss: 0.4067 - val_acc: 0.8602\n",
            "Epoch 8/61\n",
            "12/12 [==============================] - 15s 1s/step - loss: 0.3853 - acc: 0.8680 - val_loss: 0.3985 - val_acc: 0.8609\n",
            "Epoch 9/61\n",
            "12/12 [==============================] - 15s 1s/step - loss: 0.3776 - acc: 0.8702 - val_loss: 0.3915 - val_acc: 0.8648\n",
            "Epoch 10/61\n",
            "12/12 [==============================] - 15s 1s/step - loss: 0.3715 - acc: 0.8728 - val_loss: 0.3865 - val_acc: 0.8650\n",
            "Epoch 11/61\n",
            "12/12 [==============================] - 15s 1s/step - loss: 0.3657 - acc: 0.8754 - val_loss: 0.3822 - val_acc: 0.8672\n",
            "Epoch 12/61\n",
            "12/12 [==============================] - 14s 1s/step - loss: 0.3598 - acc: 0.8764 - val_loss: 0.3787 - val_acc: 0.8669\n",
            "Epoch 13/61\n",
            "12/12 [==============================] - 15s 1s/step - loss: 0.3559 - acc: 0.8778 - val_loss: 0.3742 - val_acc: 0.8693\n",
            "Epoch 14/61\n",
            "12/12 [==============================] - 14s 1s/step - loss: 0.3518 - acc: 0.8789 - val_loss: 0.3694 - val_acc: 0.8717\n",
            "Epoch 15/61\n",
            "12/12 [==============================] - 15s 1s/step - loss: 0.3464 - acc: 0.8811 - val_loss: 0.3651 - val_acc: 0.8733\n",
            "Epoch 16/61\n",
            "12/12 [==============================] - 14s 1s/step - loss: 0.3420 - acc: 0.8825 - val_loss: 0.3634 - val_acc: 0.8736\n",
            "Epoch 17/61\n",
            "12/12 [==============================] - 15s 1s/step - loss: 0.3394 - acc: 0.8830 - val_loss: 0.3626 - val_acc: 0.8741\n",
            "Epoch 18/61\n",
            "12/12 [==============================] - 15s 1s/step - loss: 0.3354 - acc: 0.8843 - val_loss: 0.3563 - val_acc: 0.8770\n",
            "Epoch 19/61\n",
            "12/12 [==============================] - 14s 1s/step - loss: 0.3314 - acc: 0.8856 - val_loss: 0.3549 - val_acc: 0.8776\n",
            "Epoch 20/61\n",
            "12/12 [==============================] - 15s 1s/step - loss: 0.3285 - acc: 0.8863 - val_loss: 0.3553 - val_acc: 0.8746\n",
            "Epoch 21/61\n",
            "12/12 [==============================] - 15s 1s/step - loss: 0.3266 - acc: 0.8874 - val_loss: 0.3485 - val_acc: 0.8798\n",
            "Epoch 22/61\n",
            "12/12 [==============================] - 15s 1s/step - loss: 0.3227 - acc: 0.8887 - val_loss: 0.3469 - val_acc: 0.8786\n",
            "Epoch 23/61\n",
            "12/12 [==============================] - 15s 1s/step - loss: 0.3193 - acc: 0.8899 - val_loss: 0.3438 - val_acc: 0.8817\n",
            "Epoch 24/61\n",
            "12/12 [==============================] - 15s 1s/step - loss: 0.3159 - acc: 0.8907 - val_loss: 0.3430 - val_acc: 0.8815\n",
            "Epoch 25/61\n",
            "12/12 [==============================] - 15s 1s/step - loss: 0.3162 - acc: 0.8900 - val_loss: 0.3453 - val_acc: 0.8796\n",
            "Epoch 26/61\n",
            "12/12 [==============================] - 14s 1s/step - loss: 0.3146 - acc: 0.8912 - val_loss: 0.3397 - val_acc: 0.8816\n",
            "Epoch 27/61\n",
            "12/12 [==============================] - 15s 1s/step - loss: 0.3101 - acc: 0.8929 - val_loss: 0.3376 - val_acc: 0.8832\n",
            "Epoch 28/61\n",
            "12/12 [==============================] - 15s 1s/step - loss: 0.3084 - acc: 0.8927 - val_loss: 0.3383 - val_acc: 0.8820\n",
            "Epoch 29/61\n",
            "12/12 [==============================] - 15s 1s/step - loss: 0.3046 - acc: 0.8952 - val_loss: 0.3347 - val_acc: 0.8838\n",
            "Epoch 30/61\n",
            "12/12 [==============================] - 15s 1s/step - loss: 0.3020 - acc: 0.8955 - val_loss: 0.3325 - val_acc: 0.8850\n",
            "Epoch 31/61\n",
            "12/12 [==============================] - 15s 1s/step - loss: 0.3006 - acc: 0.8959 - val_loss: 0.3313 - val_acc: 0.8852\n",
            "Epoch 32/61\n",
            "12/12 [==============================] - 14s 1s/step - loss: 0.2982 - acc: 0.8975 - val_loss: 0.3295 - val_acc: 0.8857\n",
            "Epoch 33/61\n",
            "12/12 [==============================] - 15s 1s/step - loss: 0.2960 - acc: 0.8978 - val_loss: 0.3304 - val_acc: 0.8860\n",
            "Epoch 34/61\n",
            "12/12 [==============================] - 15s 1s/step - loss: 0.2942 - acc: 0.8988 - val_loss: 0.3282 - val_acc: 0.8867\n",
            "Epoch 35/61\n",
            "12/12 [==============================] - 15s 1s/step - loss: 0.2925 - acc: 0.8988 - val_loss: 0.3272 - val_acc: 0.8878\n",
            "Epoch 36/61\n",
            "12/12 [==============================] - 15s 1s/step - loss: 0.2910 - acc: 0.8994 - val_loss: 0.3254 - val_acc: 0.8882\n",
            "Epoch 37/61\n",
            "12/12 [==============================] - 15s 1s/step - loss: 0.2900 - acc: 0.9001 - val_loss: 0.3254 - val_acc: 0.8871\n",
            "Epoch 38/61\n",
            "12/12 [==============================] - 15s 1s/step - loss: 0.2874 - acc: 0.9001 - val_loss: 0.3262 - val_acc: 0.8870\n",
            "Epoch 39/61\n",
            "12/12 [==============================] - 15s 1s/step - loss: 0.2861 - acc: 0.9013 - val_loss: 0.3224 - val_acc: 0.8875\n",
            "Epoch 40/61\n",
            "12/12 [==============================] - 15s 1s/step - loss: 0.2853 - acc: 0.9011 - val_loss: 0.3226 - val_acc: 0.8868\n",
            "Epoch 41/61\n",
            "12/12 [==============================] - 15s 1s/step - loss: 0.2843 - acc: 0.9021 - val_loss: 0.3190 - val_acc: 0.8905\n",
            "Epoch 42/61\n",
            "12/12 [==============================] - 15s 1s/step - loss: 0.2813 - acc: 0.9023 - val_loss: 0.3193 - val_acc: 0.8885\n",
            "Epoch 43/61\n",
            "12/12 [==============================] - 15s 1s/step - loss: 0.2799 - acc: 0.9029 - val_loss: 0.3185 - val_acc: 0.8892\n",
            "Epoch 44/61\n",
            "12/12 [==============================] - 15s 1s/step - loss: 0.2779 - acc: 0.9042 - val_loss: 0.3172 - val_acc: 0.8906\n",
            "Epoch 45/61\n",
            "12/12 [==============================] - 15s 1s/step - loss: 0.2764 - acc: 0.9039 - val_loss: 0.3154 - val_acc: 0.8909\n",
            "Epoch 46/61\n",
            "12/12 [==============================] - 15s 1s/step - loss: 0.2751 - acc: 0.9047 - val_loss: 0.3163 - val_acc: 0.8906\n",
            "Epoch 47/61\n",
            "12/12 [==============================] - 15s 1s/step - loss: 0.2743 - acc: 0.9040 - val_loss: 0.3166 - val_acc: 0.8913\n",
            "Epoch 48/61\n",
            "12/12 [==============================] - 15s 1s/step - loss: 0.2731 - acc: 0.9055 - val_loss: 0.3133 - val_acc: 0.8913\n",
            "Epoch 49/61\n",
            "12/12 [==============================] - 15s 1s/step - loss: 0.2713 - acc: 0.9062 - val_loss: 0.3155 - val_acc: 0.8903\n",
            "Epoch 50/61\n",
            "12/12 [==============================] - 15s 1s/step - loss: 0.2705 - acc: 0.9060 - val_loss: 0.3118 - val_acc: 0.8924\n",
            "Epoch 51/61\n",
            "12/12 [==============================] - 15s 1s/step - loss: 0.2690 - acc: 0.9070 - val_loss: 0.3131 - val_acc: 0.8918\n",
            "Epoch 52/61\n",
            "12/12 [==============================] - 15s 1s/step - loss: 0.2687 - acc: 0.9067 - val_loss: 0.3111 - val_acc: 0.8933\n",
            "Epoch 53/61\n",
            "12/12 [==============================] - 15s 1s/step - loss: 0.2685 - acc: 0.9064 - val_loss: 0.3104 - val_acc: 0.8920\n",
            "Epoch 54/61\n",
            "12/12 [==============================] - 15s 1s/step - loss: 0.2655 - acc: 0.9081 - val_loss: 0.3099 - val_acc: 0.8929\n",
            "Epoch 55/61\n",
            "12/12 [==============================] - 15s 1s/step - loss: 0.2642 - acc: 0.9091 - val_loss: 0.3084 - val_acc: 0.8943\n",
            "Epoch 56/61\n",
            "12/12 [==============================] - 15s 1s/step - loss: 0.2624 - acc: 0.9085 - val_loss: 0.3074 - val_acc: 0.8945\n",
            "Epoch 57/61\n",
            "12/12 [==============================] - 15s 1s/step - loss: 0.2611 - acc: 0.9094 - val_loss: 0.3066 - val_acc: 0.8940\n",
            "Epoch 58/61\n",
            "12/12 [==============================] - 15s 1s/step - loss: 0.2617 - acc: 0.9090 - val_loss: 0.3078 - val_acc: 0.8932\n",
            "Epoch 59/61\n",
            "12/12 [==============================] - 15s 1s/step - loss: 0.2595 - acc: 0.9096 - val_loss: 0.3060 - val_acc: 0.8939\n",
            "Epoch 60/61\n",
            "12/12 [==============================] - 15s 1s/step - loss: 0.2596 - acc: 0.9090 - val_loss: 0.3073 - val_acc: 0.8932\n",
            "Epoch 61/61\n",
            "12/12 [==============================] - 15s 1s/step - loss: 0.2582 - acc: 0.9103 - val_loss: 0.3052 - val_acc: 0.8935\n"
          ]
        }
      ]
    },
    {
      "cell_type": "code",
      "source": [
        "# Visualizamos precision\n",
        "plt.plot(history.history['acc'], label='Train Precision')\n",
        "plt.plot(history.history['val_acc'], label='Test Precision')\n",
        "plt.legend();"
      ],
      "metadata": {
        "colab": {
          "base_uri": "https://localhost:8080/",
          "height": 265
        },
        "id": "3Pnnn9SVUW2F",
        "outputId": "3a0cfe0c-d856-42b0-f685-94a8531fcfe5"
      },
      "execution_count": 16,
      "outputs": [
        {
          "output_type": "display_data",
          "data": {
            "text/plain": [
              "<Figure size 432x288 with 1 Axes>"
            ],
            "image/png": "[encoded data removed]"
          },
          "metadata": {
            "needs_background": "light"
          }
        }
      ]
    },
    {
      "cell_type": "code",
      "source": [
        "# Predicciones\n",
        "X_test = np.array(X_test).reshape(X_test.shape[0], 28, 28, 1)\n",
        "preds = np.argmax(model.predict(X_test), axis=-1)"
      ],
      "metadata": {
        "id": "ksuTvdAtUcAW"
      },
      "execution_count": 17,
      "outputs": []
    },
    {
      "cell_type": "code",
      "source": [
        "# Precision en entrenamiento\n",
        "accuracy_score(y_test, preds)"
      ],
      "metadata": {
        "colab": {
          "base_uri": "https://localhost:8080/"
        },
        "id": "wdvc6DxPUiLa",
        "outputId": "dbe37e3d-c5a6-43a8-c4d7-a20f63d3bad1"
      },
      "execution_count": 18,
      "outputs": [
        {
          "output_type": "execute_result",
          "data": {
            "text/plain": [
              "0.9011"
            ]
          },
          "metadata": {},
          "execution_count": 18
        }
      ]
    }
  ]
}