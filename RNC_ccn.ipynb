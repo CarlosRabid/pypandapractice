{
  "nbformat": 4,
  "nbformat_minor": 0,
  "metadata": {
    "colab": {
      "name": "RNC_ccn.ipynb",
      "provenance": [],
      "authorship_tag": "ABX9TyPmP+deTZ04+AajhKE7LjQ0"
    },
    "kernelspec": {
      "name": "python3",
      "display_name": "Python 3"
    },
    "language_info": {
      "name": "python"
    }
  },
  "cells": [
    {
      "cell_type": "code",
      "execution_count": null,
      "metadata": {
        "id": "1nTdqon_xIB4"
      },
      "outputs": [],
      "source": [
        "# Librerias\n",
        "import matplotlib.pyplot as plt\n",
        "import seaborn as sns\n",
        "import pandas as pd\n",
        "import numpy as np\n",
        "# TrainTestSplit GSCV CV\n",
        "from sklearn.model_selection import train_test_split, GridSearchCV, cross_val_score\n",
        "# Standard scaler\n",
        "from sklearn.preprocessing import StandardScaler\n",
        "# KNN & Clasificador\n",
        "from sklearn.neighbors import KNeighborsClassifier, KNeighborsRegressor\n",
        "from sklearn.linear_model import LinearRegression, Lasso\n",
        "from sklearn.ensemble import RandomForestClassifier, ExtraTreesClassifier\n",
        "from sklearn.tree import DecisionTreeClassifier\n",
        "from xgboost import XGBClassifier\n",
        "# Pipelines\n",
        "from sklearn.pipeline import make_pipeline\n",
        "#\n",
        "%matplotlib inline\n",
        "\n",
        "from sklearn.model_selection import train_test_split\n",
        "from sklearn.preprocessing import StandardScaler\n",
        "from sklearn.metrics import confusion_matrix\n",
        "from sklearn.metrics import accuracy_score"
      ]
    },
    {
      "cell_type": "code",
      "source": [
        "urlr = 'https://archive.ics.uci.edu/ml/machine-learning-databases/wine-quality/winequality-red.csv'\n",
        "urlb = 'https://archive.ics.uci.edu/ml/machine-learning-databases/wine-quality/winequality-white.csv'\n",
        "tinto_df = pd.read_csv(urlr, delimiter=\";\")\n",
        "blanco_df = pd.read_csv(urlb, delimiter=\";\")\n",
        "tinto_df.info()\n",
        "blanco_df.info()"
      ],
      "metadata": {
        "id": "ZKA0UPzVxOHQ"
      },
      "execution_count": null,
      "outputs": []
    }
  ]
}