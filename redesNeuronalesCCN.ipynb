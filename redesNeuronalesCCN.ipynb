{
  "nbformat": 4,
  "nbformat_minor": 0,
  "metadata": {
    "colab": {
      "name": "redesNeuronalesCCN.ipynb",
      "provenance": [],
      "authorship_tag": "ABX9TyM6gOrotVF7SlTkbQi6lvB9"
    },
    "kernelspec": {
      "name": "python3",
      "display_name": "Python 3"
    },
    "language_info": {
      "name": "python"
    }
  },
  "cells": [
    {
      "cell_type": "markdown",
      "source": [
        "# soluciones Carlos Cornejo"
      ],
      "metadata": {
        "id": "TOdfJ3HjytYj"
      }
    },
    {
      "cell_type": "markdown",
      "source": [
        "1. A partir de la época 300, la pérdida en entrenamiento es de 0.5, lo cual es alto y evita que el modelo tenga un buen desempeño en el aprendizaje"
      ],
      "metadata": {
        "id": "3ZycZM3By2qf"
      }
    },
    {
      "cell_type": "markdown",
      "source": [
        "2. Para la época 1,000, utilizando 3 neuronas y Activación ReLu se puede obtener una pérdida en entrenamiento de 0.09 lo cual es considerable para un buen desempeño en aprendizaje."
      ],
      "metadata": {
        "id": "jJuZKYIdzGSv"
      }
    },
    {
      "cell_type": "markdown",
      "source": [
        "3. Al duplicar el set up anteriormente mencionado (2 capas con 3 neuronas cada una) se obtiene una pérdida en entrenamiento menor a 0.01"
      ],
      "metadata": {
        "id": "Ar2GqtN1zyfo"
      }
    },
    {
      "cell_type": "markdown",
      "source": [
        "4. La curva de aprendizaje en deep learning es lo mismo que en cualquier caso: un método para medir el desempeño al momento de aprender \"algo nuevo\" con lo cual, mientras más elevada o \"inclinada\" sea la curva durante menor tiempo, permitirá el mejor dsempeño en tasa de aprendizaje o al momento de efectuar clasificación basada en aprendizaje."
      ],
      "metadata": {
        "id": "zB_sHv4J0Mpk"
      }
    },
    {
      "cell_type": "markdown",
      "source": [
        "Parte 2: en progreso."
      ],
      "metadata": {
        "id": "kw5P76090t4J"
      }
    },
    {
      "cell_type": "code",
      "execution_count": null,
      "metadata": {
        "id": "x5Qum5YHvU_l"
      },
      "outputs": [],
      "source": [
        ""
      ]
    }
  ]
}