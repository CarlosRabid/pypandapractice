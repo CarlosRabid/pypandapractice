{
  "nbformat": 4,
  "nbformat_minor": 0,
  "metadata": {
    "colab": {
      "name": "predviviendasCCN.ipynb",
      "provenance": [],
      "mount_file_id": "1emyE16McSuC5Tnxaqf43LDzijgJXice4",
      "authorship_tag": "ABX9TyPnGeh6boStsoMnDO1CZwAG"
    },
    "kernelspec": {
      "name": "python3",
      "display_name": "Python 3"
    },
    "language_info": {
      "name": "python"
    }
  },
  "cells": [
    {
      "cell_type": "code",
      "execution_count": null,
      "metadata": {
        "id": "yiwH01hMhU0D"
      },
      "outputs": [],
      "source": [
        "import matplotlib.pyplot as plt\n",
        "import seaborn as sns\n",
        "import pandas as pd\n",
        "import numpy as np\n",
        "from sklearn.preprocessing import StandardScaler\n",
        "from sklearn.neighbors import KNeighborsClassifier, KNeighborsRegressor\n",
        "from sklearn.metrics import mean_squared_error\n",
        "filename = ('/content/drive/MyDrive/Colab Notebooks/coding dojo/PTDataScience/PandasParaManipulaciónDeDatos/abalone.data')\n",
        "df = pd.read_csv(filename, delimiter=',', header=None)\n",
        "df.head()"
      ]
    }
  ]
}